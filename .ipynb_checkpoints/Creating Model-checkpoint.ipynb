{
 "cells": [
  {
   "cell_type": "code",
   "execution_count": 3,
   "id": "040d9282",
   "metadata": {},
   "outputs": [],
   "source": [
    "import pandas as pd\n",
    "from sklearn.model_selection import train_test_split\n",
    "from keras.preprocessing.text import Tokenizer\n",
    "from keras.preprocessing.sequence import pad_sequences\n",
    "from keras.utils import to_categorical\n",
    "from tensorflow.keras.models import Sequential\n",
    "from keras.layers import Dense,Dropout,Activation,SimpleRNN\n",
    "from tensorflow.keras import optimizers\n",
    "import numpy as np\n",
    "from keras.layers.normalization import BatchNormalization\n",
    "from keras.wrappers.scikit_learn import KerasClassifier\n",
    "from sklearn.metrics import accuracy_score"
   ]
  },
  {
   "cell_type": "code",
   "execution_count": 4,
   "id": "94e61c1d",
   "metadata": {},
   "outputs": [],
   "source": [
    "df=pd.read_csv(\"Tweets_labelled.csv\")"
   ]
  },
  {
   "cell_type": "markdown",
   "id": "1f8a8cc3",
   "metadata": {},
   "source": [
    "# Full Dataset"
   ]
  },
  {
   "cell_type": "code",
   "execution_count": 5,
   "id": "8f4552f9",
   "metadata": {
    "scrolled": true
   },
   "outputs": [
    {
     "data": {
      "text/html": [
       "<div>\n",
       "<style scoped>\n",
       "    .dataframe tbody tr th:only-of-type {\n",
       "        vertical-align: middle;\n",
       "    }\n",
       "\n",
       "    .dataframe tbody tr th {\n",
       "        vertical-align: top;\n",
       "    }\n",
       "\n",
       "    .dataframe thead th {\n",
       "        text-align: right;\n",
       "    }\n",
       "</style>\n",
       "<table border=\"1\" class=\"dataframe\">\n",
       "  <thead>\n",
       "    <tr style=\"text-align: right;\">\n",
       "      <th></th>\n",
       "      <th>Unnamed: 0</th>\n",
       "      <th>Tweets</th>\n",
       "      <th>Sentiment</th>\n",
       "    </tr>\n",
       "  </thead>\n",
       "  <tbody>\n",
       "    <tr>\n",
       "      <th>0</th>\n",
       "      <td>0</td>\n",
       "      <td>trillion kidding globalgdp stocks crypto</td>\n",
       "      <td>0.0</td>\n",
       "    </tr>\n",
       "    <tr>\n",
       "      <th>1</th>\n",
       "      <td>1</td>\n",
       "      <td>much spy sampp fall pink shaded area pre shutd...</td>\n",
       "      <td>1.0</td>\n",
       "    </tr>\n",
       "    <tr>\n",
       "      <th>2</th>\n",
       "      <td>2</td>\n",
       "      <td>options trading watchlist amd p lt msft p lt m...</td>\n",
       "      <td>1.0</td>\n",
       "    </tr>\n",
       "    <tr>\n",
       "      <th>3</th>\n",
       "      <td>3</td>\n",
       "      <td>rt mrvuxxx wants sologenic binance let show po...</td>\n",
       "      <td>1.0</td>\n",
       "    </tr>\n",
       "    <tr>\n",
       "      <th>4</th>\n",
       "      <td>4</td>\n",
       "      <td>attacks mf short sellers seem working reed cra...</td>\n",
       "      <td>0.0</td>\n",
       "    </tr>\n",
       "  </tbody>\n",
       "</table>\n",
       "</div>"
      ],
      "text/plain": [
       "   Unnamed: 0                                             Tweets  Sentiment\n",
       "0           0           trillion kidding globalgdp stocks crypto        0.0\n",
       "1           1  much spy sampp fall pink shaded area pre shutd...        1.0\n",
       "2           2  options trading watchlist amd p lt msft p lt m...        1.0\n",
       "3           3  rt mrvuxxx wants sologenic binance let show po...        1.0\n",
       "4           4  attacks mf short sellers seem working reed cra...        0.0"
      ]
     },
     "execution_count": 5,
     "metadata": {},
     "output_type": "execute_result"
    }
   ],
   "source": [
    "df.head()"
   ]
  },
  {
   "cell_type": "code",
   "execution_count": 6,
   "id": "fa975a91",
   "metadata": {},
   "outputs": [],
   "source": [
    "df.drop(columns=['Unnamed: 0'],inplace=True)"
   ]
  },
  {
   "cell_type": "code",
   "execution_count": 7,
   "id": "6e776c12",
   "metadata": {},
   "outputs": [
    {
     "data": {
      "text/html": [
       "<div>\n",
       "<style scoped>\n",
       "    .dataframe tbody tr th:only-of-type {\n",
       "        vertical-align: middle;\n",
       "    }\n",
       "\n",
       "    .dataframe tbody tr th {\n",
       "        vertical-align: top;\n",
       "    }\n",
       "\n",
       "    .dataframe thead th {\n",
       "        text-align: right;\n",
       "    }\n",
       "</style>\n",
       "<table border=\"1\" class=\"dataframe\">\n",
       "  <thead>\n",
       "    <tr style=\"text-align: right;\">\n",
       "      <th></th>\n",
       "      <th>Tweets</th>\n",
       "      <th>Sentiment</th>\n",
       "    </tr>\n",
       "  </thead>\n",
       "  <tbody>\n",
       "    <tr>\n",
       "      <th>0</th>\n",
       "      <td>trillion kidding globalgdp stocks crypto</td>\n",
       "      <td>0.0</td>\n",
       "    </tr>\n",
       "    <tr>\n",
       "      <th>1</th>\n",
       "      <td>much spy sampp fall pink shaded area pre shutd...</td>\n",
       "      <td>1.0</td>\n",
       "    </tr>\n",
       "    <tr>\n",
       "      <th>2</th>\n",
       "      <td>options trading watchlist amd p lt msft p lt m...</td>\n",
       "      <td>1.0</td>\n",
       "    </tr>\n",
       "    <tr>\n",
       "      <th>3</th>\n",
       "      <td>rt mrvuxxx wants sologenic binance let show po...</td>\n",
       "      <td>1.0</td>\n",
       "    </tr>\n",
       "    <tr>\n",
       "      <th>4</th>\n",
       "      <td>attacks mf short sellers seem working reed cra...</td>\n",
       "      <td>0.0</td>\n",
       "    </tr>\n",
       "  </tbody>\n",
       "</table>\n",
       "</div>"
      ],
      "text/plain": [
       "                                              Tweets  Sentiment\n",
       "0           trillion kidding globalgdp stocks crypto        0.0\n",
       "1  much spy sampp fall pink shaded area pre shutd...        1.0\n",
       "2  options trading watchlist amd p lt msft p lt m...        1.0\n",
       "3  rt mrvuxxx wants sologenic binance let show po...        1.0\n",
       "4  attacks mf short sellers seem working reed cra...        0.0"
      ]
     },
     "execution_count": 7,
     "metadata": {},
     "output_type": "execute_result"
    }
   ],
   "source": [
    "df.head()"
   ]
  },
  {
   "cell_type": "code",
   "execution_count": 8,
   "id": "6352e3ce",
   "metadata": {},
   "outputs": [
    {
     "data": {
      "text/plain": [
       "True"
      ]
     },
     "execution_count": 8,
     "metadata": {},
     "output_type": "execute_result"
    }
   ],
   "source": [
    "df.isnull().values.any()"
   ]
  },
  {
   "cell_type": "code",
   "execution_count": 9,
   "id": "9a131785",
   "metadata": {
    "scrolled": true
   },
   "outputs": [
    {
     "data": {
      "text/html": [
       "<div>\n",
       "<style scoped>\n",
       "    .dataframe tbody tr th:only-of-type {\n",
       "        vertical-align: middle;\n",
       "    }\n",
       "\n",
       "    .dataframe tbody tr th {\n",
       "        vertical-align: top;\n",
       "    }\n",
       "\n",
       "    .dataframe thead th {\n",
       "        text-align: right;\n",
       "    }\n",
       "</style>\n",
       "<table border=\"1\" class=\"dataframe\">\n",
       "  <thead>\n",
       "    <tr style=\"text-align: right;\">\n",
       "      <th></th>\n",
       "      <th>Tweets</th>\n",
       "      <th>Sentiment</th>\n",
       "    </tr>\n",
       "  </thead>\n",
       "  <tbody>\n",
       "    <tr>\n",
       "      <th>952</th>\n",
       "      <td>NaN</td>\n",
       "      <td>NaN</td>\n",
       "    </tr>\n",
       "  </tbody>\n",
       "</table>\n",
       "</div>"
      ],
      "text/plain": [
       "    Tweets  Sentiment\n",
       "952    NaN        NaN"
      ]
     },
     "execution_count": 9,
     "metadata": {},
     "output_type": "execute_result"
    }
   ],
   "source": [
    "df[df.isna().any(axis=1)]"
   ]
  },
  {
   "cell_type": "code",
   "execution_count": 10,
   "id": "e5a6eb13",
   "metadata": {},
   "outputs": [],
   "source": [
    "df.drop(df.index[952],inplace=True)"
   ]
  },
  {
   "cell_type": "code",
   "execution_count": 11,
   "id": "a3fbc6c8",
   "metadata": {},
   "outputs": [
    {
     "data": {
      "text/plain": [
       "False"
      ]
     },
     "execution_count": 11,
     "metadata": {},
     "output_type": "execute_result"
    }
   ],
   "source": [
    "df.isnull().values.any()"
   ]
  },
  {
   "cell_type": "code",
   "execution_count": 12,
   "id": "937b4dd4",
   "metadata": {},
   "outputs": [],
   "source": [
    "def preprocessingdata():\n",
    "    global X_train, X_test, y_train, y_test,maxlen,tokenizer\n",
    "    x=df[\"Tweets\"]\n",
    "    y=df[\"Sentiment\"]\n",
    "\n",
    "    X_train, X_test, y_train, y_test=train_test_split(x,y,test_size=0.2)\n",
    "\n",
    "    print(\"shape of X_train\",X_train.shape)\n",
    "    print(\"shape of X_test\",X_test.shape)\n",
    "\n",
    "    print(\"shape of y_train\",y_train.shape)\n",
    "    print(\"shape of y_test\",y_test.shape)\n",
    "\n",
    "    print(X_train[100])\n",
    "    print(y_train[100])\n",
    "\n",
    "    tokenizer=Tokenizer(num_words=1000,lower=True)\n",
    "    tokenizer.fit_on_texts(X_train)\n",
    "\n",
    "    X_train=tokenizer.texts_to_sequences(X_train)\n",
    "    X_test=tokenizer.texts_to_sequences(X_test)\n",
    "\n",
    "    vocab_size=len(tokenizer.word_index)+1\n",
    "\n",
    "    print(X_train[100])\n",
    "    print(y_train[100])\n",
    "\n",
    "    maxlen=20\n",
    "    X_train=pad_sequences(X_train,padding=\"post\",maxlen=maxlen)\n",
    "    X_test=pad_sequences(X_test,padding=\"post\",maxlen=maxlen)\n",
    "\n",
    "    print(X_train[3,:])\n",
    "\n",
    "\n",
    "    num_classes=2\n",
    "\n",
    "    y_train=to_categorical(y_train,num_classes)\n",
    "    y_test=to_categorical(y_test,num_classes)\n",
    "\n",
    "\n",
    "    print(y_train.shape)\n",
    "    print(y_train[0])\n",
    "\n",
    "\n",
    "    X_train=np.array(X_train).reshape((X_train.shape[0],X_train.shape[1],1))\n",
    "    print(X_train.shape)\n",
    "\n",
    "    X_test=np.array(X_test).reshape((X_test.shape[0],X_test.shape[1],1))\n",
    "    print(X_test.shape)"
   ]
  },
  {
   "cell_type": "code",
   "execution_count": 13,
   "id": "deb89884",
   "metadata": {},
   "outputs": [
    {
     "name": "stdout",
     "output_type": "stream",
     "text": [
      "shape of X_train (1109,)\n",
      "shape of X_test (278,)\n",
      "shape of y_train (1109,)\n",
      "shape of y_test (278,)\n",
      "rt tradertvshawn adding aapl look top short get clean break stockmarke\n",
      "1.0\n",
      "[557]\n",
      "1.0\n",
      "[431 315 281   3 237 145  84  12 672 673 674   0   0   0   0   0   0   0\n",
      "   0   0]\n",
      "(1109, 2)\n",
      "[1. 0.]\n",
      "(1109, 20, 1)\n",
      "(278, 20, 1)\n"
     ]
    }
   ],
   "source": [
    "preprocessingdata()"
   ]
  },
  {
   "cell_type": "code",
   "execution_count": 16,
   "id": "5b40db84",
   "metadata": {},
   "outputs": [],
   "source": [
    "num_classes=2\n",
    "\n",
    "def vanilla_rnn():\n",
    "    model=Sequential()\n",
    "    model.add(SimpleRNN(50,input_shape=(maxlen,1),return_sequences=False))\n",
    "    model.add(Dense(num_classes))\n",
    "    model.add(Activation(\"sigmoid\"))\n",
    "    model.summary()\n",
    "    epochs=15\n",
    "    learning_rate = 0.001\n",
    "    decay_rate = learning_rate / epochs\n",
    "    momentum = 0.8\n",
    "    sgd = optimizers.SGD(learning_rate=learning_rate, momentum=momentum, decay=decay_rate, nesterov=False)\n",
    "    \n",
    "    model.compile(loss=\"categorical_crossentropy\",optimizer=sgd,metrics=[\"accuracy\"])\n",
    "    \n",
    "    return model\n"
   ]
  },
  {
   "cell_type": "code",
   "execution_count": 17,
   "id": "a1da1d17",
   "metadata": {},
   "outputs": [
    {
     "name": "stdout",
     "output_type": "stream",
     "text": [
      "Model: \"sequential_1\"\n",
      "_________________________________________________________________\n",
      "Layer (type)                 Output Shape              Param #   \n",
      "=================================================================\n",
      "simple_rnn_1 (SimpleRNN)     (None, 50)                2600      \n",
      "_________________________________________________________________\n",
      "dense_1 (Dense)              (None, 2)                 102       \n",
      "_________________________________________________________________\n",
      "activation_1 (Activation)    (None, 2)                 0         \n",
      "=================================================================\n",
      "Total params: 2,702\n",
      "Trainable params: 2,702\n",
      "Non-trainable params: 0\n",
      "_________________________________________________________________\n",
      "Epoch 1/15\n",
      "35/35 [==============================] - 1s 22ms/step - loss: 0.5548 - accuracy: 0.7421\n",
      "Epoch 2/15\n",
      "35/35 [==============================] - 1s 23ms/step - loss: 0.4838 - accuracy: 0.8124\n",
      "Epoch 3/15\n",
      "35/35 [==============================] - 1s 21ms/step - loss: 0.4818 - accuracy: 0.8124\n",
      "Epoch 4/15\n",
      "35/35 [==============================] - 1s 22ms/step - loss: 0.4823 - accuracy: 0.8124\n",
      "Epoch 5/15\n",
      "35/35 [==============================] - 1s 20ms/step - loss: 0.4801 - accuracy: 0.8124\n",
      "Epoch 6/15\n",
      "35/35 [==============================] - 1s 20ms/step - loss: 0.4794 - accuracy: 0.8124\n",
      "Epoch 7/15\n",
      "35/35 [==============================] - 1s 21ms/step - loss: 0.4792 - accuracy: 0.8124\n",
      "Epoch 8/15\n",
      "35/35 [==============================] - 1s 21ms/step - loss: 0.4788 - accuracy: 0.8124\n",
      "Epoch 9/15\n",
      "35/35 [==============================] - 1s 20ms/step - loss: 0.4787 - accuracy: 0.8124\n",
      "Epoch 10/15\n",
      "35/35 [==============================] - 1s 20ms/step - loss: 0.4788 - accuracy: 0.8124\n",
      "Epoch 11/15\n",
      "35/35 [==============================] - 1s 21ms/step - loss: 0.4789 - accuracy: 0.8124\n",
      "Epoch 12/15\n",
      "35/35 [==============================] - 1s 18ms/step - loss: 0.4790 - accuracy: 0.8124\n",
      "Epoch 13/15\n",
      "35/35 [==============================] - 1s 18ms/step - loss: 0.4775 - accuracy: 0.8124\n",
      "Epoch 14/15\n",
      "35/35 [==============================] - 1s 21ms/step - loss: 0.4780 - accuracy: 0.8124\n",
      "Epoch 15/15\n",
      "35/35 [==============================] - 1s 20ms/step - loss: 0.4773 - accuracy: 0.8124\n"
     ]
    },
    {
     "data": {
      "text/plain": [
       "<tensorflow.python.keras.callbacks.History at 0x22b3a689b00>"
      ]
     },
     "execution_count": 17,
     "metadata": {},
     "output_type": "execute_result"
    }
   ],
   "source": [
    "model=KerasClassifier(build_fn=vanilla_rnn,epochs=15,batch_size=32)\n",
    "model.fit(X_train,y_train)"
   ]
  },
  {
   "cell_type": "code",
   "execution_count": 20,
   "id": "e63ae616",
   "metadata": {},
   "outputs": [
    {
     "name": "stdout",
     "output_type": "stream",
     "text": [
      "Model Accuracy ----> 0.8201438848920863\n"
     ]
    }
   ],
   "source": [
    "y_pred=model.predict(X_test)\n",
    "y_test_=np.argmax(y_test,axis=1)\n",
    "\n",
    "print(\"Model Accuracy ---->\",accuracy_score(y_pred,y_test_))"
   ]
  },
  {
   "cell_type": "code",
   "execution_count": 29,
   "id": "acaf39c5",
   "metadata": {},
   "outputs": [
    {
     "name": "stdout",
     "output_type": "stream",
     "text": [
      "(1, 20, 1)\n",
      "Prediction for \" Relience is going up \" ----> [1]\n"
     ]
    }
   ],
   "source": [
    "a=[\"Relience is going up\"]\n",
    "\n",
    "sent=a\n",
    "a=tokenizer.texts_to_sequences(a)\n",
    "a=np.array(a)\n",
    "a=pad_sequences(a,padding=\"post\",maxlen=maxlen)\n",
    "\n",
    "a=a.reshape((a.shape[0],a.shape[1],1))\n",
    "print(a.shape)\n",
    "\n",
    "prediction=model.predict(np.array(a))\n",
    "\n",
    "print(\"Prediction for\",'\"',*sent,'\"',\"---->\",prediction)"
   ]
  },
  {
   "cell_type": "markdown",
   "id": "f8935cba",
   "metadata": {},
   "source": [
    "# Problem with this Dataset"
   ]
  },
  {
   "cell_type": "markdown",
   "id": "ba5456d2",
   "metadata": {},
   "source": [
    "Dataset is very imbalanced therefore the accuracy is high but the performance for real data is not so great"
   ]
  },
  {
   "cell_type": "code",
   "execution_count": 30,
   "id": "65f1ce4f",
   "metadata": {},
   "outputs": [
    {
     "data": {
      "text/plain": [
       "<AxesSubplot:>"
      ]
     },
     "execution_count": 30,
     "metadata": {},
     "output_type": "execute_result"
    },
    {
     "data": {
      "image/png": "[encoded data removed]",
      "text/plain": [
       "<Figure size 432x288 with 1 Axes>"
      ]
     },
     "metadata": {
      "needs_background": "light"
     },
     "output_type": "display_data"
    }
   ],
   "source": [
    "pd.value_counts(df['Sentiment']).plot.bar()"
   ]
  },
  {
   "cell_type": "code",
   "execution_count": 31,
   "id": "bdaece9d",
   "metadata": {},
   "outputs": [
    {
     "data": {
      "text/plain": [
       "1.0    1129\n",
       "0.0     258\n",
       "Name: Sentiment, dtype: int64"
      ]
     },
     "execution_count": 31,
     "metadata": {},
     "output_type": "execute_result"
    }
   ],
   "source": [
    "df.Sentiment.value_counts()"
   ]
  },
  {
   "cell_type": "markdown",
   "id": "6a1a386b",
   "metadata": {},
   "source": [
    "# There are two solution for this problem"
   ]
  },
  {
   "cell_type": "markdown",
   "id": "a822826b",
   "metadata": {},
   "source": [
    "### 1- Undersampling \n",
    "\n",
    "Undersampling is a technique to balance uneven datasets by keeping all of the data in the minority class and decreasing the size of the majority class.\n",
    "\n",
    "### 2- Oversampling \n",
    "\n",
    "Oversampling is a technique to balance uneven datasets by keeping all of the data in the majority class and decreasing the size of the minority class."
   ]
  },
  {
   "cell_type": "markdown",
   "id": "86145444",
   "metadata": {},
   "source": [
    "# Accuracy with Undersampling"
   ]
  },
  {
   "cell_type": "code",
   "execution_count": 32,
   "id": "bc5c1b0b",
   "metadata": {},
   "outputs": [],
   "source": [
    "df=pd.read_csv(\"Tweets_labelled.csv\")"
   ]
  },
  {
   "cell_type": "code",
   "execution_count": 33,
   "id": "3c37cd43",
   "metadata": {},
   "outputs": [
    {
     "data": {
      "text/html": [
       "<div>\n",
       "<style scoped>\n",
       "    .dataframe tbody tr th:only-of-type {\n",
       "        vertical-align: middle;\n",
       "    }\n",
       "\n",
       "    .dataframe tbody tr th {\n",
       "        vertical-align: top;\n",
       "    }\n",
       "\n",
       "    .dataframe thead th {\n",
       "        text-align: right;\n",
       "    }\n",
       "</style>\n",
       "<table border=\"1\" class=\"dataframe\">\n",
       "  <thead>\n",
       "    <tr style=\"text-align: right;\">\n",
       "      <th></th>\n",
       "      <th>Unnamed: 0</th>\n",
       "      <th>Tweets</th>\n",
       "      <th>Sentiment</th>\n",
       "    </tr>\n",
       "  </thead>\n",
       "  <tbody>\n",
       "    <tr>\n",
       "      <th>0</th>\n",
       "      <td>0</td>\n",
       "      <td>trillion kidding globalgdp stocks crypto</td>\n",
       "      <td>0.0</td>\n",
       "    </tr>\n",
       "    <tr>\n",
       "      <th>1</th>\n",
       "      <td>1</td>\n",
       "      <td>much spy sampp fall pink shaded area pre shutd...</td>\n",
       "      <td>1.0</td>\n",
       "    </tr>\n",
       "    <tr>\n",
       "      <th>2</th>\n",
       "      <td>2</td>\n",
       "      <td>options trading watchlist amd p lt msft p lt m...</td>\n",
       "      <td>1.0</td>\n",
       "    </tr>\n",
       "    <tr>\n",
       "      <th>3</th>\n",
       "      <td>3</td>\n",
       "      <td>rt mrvuxxx wants sologenic binance let show po...</td>\n",
       "      <td>1.0</td>\n",
       "    </tr>\n",
       "    <tr>\n",
       "      <th>4</th>\n",
       "      <td>4</td>\n",
       "      <td>attacks mf short sellers seem working reed cra...</td>\n",
       "      <td>0.0</td>\n",
       "    </tr>\n",
       "  </tbody>\n",
       "</table>\n",
       "</div>"
      ],
      "text/plain": [
       "   Unnamed: 0                                             Tweets  Sentiment\n",
       "0           0           trillion kidding globalgdp stocks crypto        0.0\n",
       "1           1  much spy sampp fall pink shaded area pre shutd...        1.0\n",
       "2           2  options trading watchlist amd p lt msft p lt m...        1.0\n",
       "3           3  rt mrvuxxx wants sologenic binance let show po...        1.0\n",
       "4           4  attacks mf short sellers seem working reed cra...        0.0"
      ]
     },
     "execution_count": 33,
     "metadata": {},
     "output_type": "execute_result"
    }
   ],
   "source": [
    "df.head()"
   ]
  },
  {
   "cell_type": "code",
   "execution_count": 34,
   "id": "696d811c",
   "metadata": {},
   "outputs": [],
   "source": [
    "def undersample(df):\n",
    "    classes = df.Sentiment.value_counts().to_dict()\n",
    "    least_class_amount = min(classes.values())\n",
    "    classes_list = []\n",
    "    for key in classes:\n",
    "        classes_list.append(df[df['Sentiment'] == key]) \n",
    "    classes_sample = []\n",
    "    for i in range(0,len(classes_list)-1):\n",
    "        classes_sample.append(classes_list[i].sample(least_class_amount))\n",
    "    df_maybe = pd.concat(classes_sample)\n",
    "    final_df = pd.concat([df_maybe,classes_list[-1]], axis=0)\n",
    "    final_df = final_df.reset_index(drop=True)\n",
    "    return final_df"
   ]
  },
  {
   "cell_type": "code",
   "execution_count": 35,
   "id": "9905ce10",
   "metadata": {},
   "outputs": [],
   "source": [
    "df=undersample(df)"
   ]
  },
  {
   "cell_type": "code",
   "execution_count": 36,
   "id": "30765bfc",
   "metadata": {},
   "outputs": [
    {
     "data": {
      "text/plain": [
       "<AxesSubplot:>"
      ]
     },
     "execution_count": 36,
     "metadata": {},
     "output_type": "execute_result"
    },
    {
     "data": {
      "image/png": "[encoded data removed]",
      "text/plain": [
       "<Figure size 432x288 with 1 Axes>"
      ]
     },
     "metadata": {
      "needs_background": "light"
     },
     "output_type": "display_data"
    }
   ],
   "source": [
    "pd.value_counts(df['Sentiment']).plot.bar()"
   ]
  },
  {
   "cell_type": "code",
   "execution_count": 37,
   "id": "00692a99",
   "metadata": {},
   "outputs": [
    {
     "data": {
      "text/html": [
       "<div>\n",
       "<style scoped>\n",
       "    .dataframe tbody tr th:only-of-type {\n",
       "        vertical-align: middle;\n",
       "    }\n",
       "\n",
       "    .dataframe tbody tr th {\n",
       "        vertical-align: top;\n",
       "    }\n",
       "\n",
       "    .dataframe thead th {\n",
       "        text-align: right;\n",
       "    }\n",
       "</style>\n",
       "<table border=\"1\" class=\"dataframe\">\n",
       "  <thead>\n",
       "    <tr style=\"text-align: right;\">\n",
       "      <th></th>\n",
       "      <th>Unnamed: 0</th>\n",
       "      <th>Tweets</th>\n",
       "      <th>Sentiment</th>\n",
       "    </tr>\n",
       "  </thead>\n",
       "  <tbody>\n",
       "    <tr>\n",
       "      <th>0</th>\n",
       "      <td>112</td>\n",
       "      <td>rt elliottforecast besides profound market und...</td>\n",
       "      <td>1.0</td>\n",
       "    </tr>\n",
       "    <tr>\n",
       "      <th>1</th>\n",
       "      <td>1077</td>\n",
       "      <td>rt rulesoption worst trading addiction thinkin...</td>\n",
       "      <td>1.0</td>\n",
       "    </tr>\n",
       "    <tr>\n",
       "      <th>2</th>\n",
       "      <td>1311</td>\n",
       "      <td>buy state bank india target price rs prabhudas...</td>\n",
       "      <td>1.0</td>\n",
       "    </tr>\n",
       "    <tr>\n",
       "      <th>3</th>\n",
       "      <td>1148</td>\n",
       "      <td>stockmarkets nifty niftybank niftyoption intra...</td>\n",
       "      <td>1.0</td>\n",
       "    </tr>\n",
       "    <tr>\n",
       "      <th>4</th>\n",
       "      <td>866</td>\n",
       "      <td>rt arc dowjones heading towards k</td>\n",
       "      <td>1.0</td>\n",
       "    </tr>\n",
       "  </tbody>\n",
       "</table>\n",
       "</div>"
      ],
      "text/plain": [
       "   Unnamed: 0                                             Tweets  Sentiment\n",
       "0         112  rt elliottforecast besides profound market und...        1.0\n",
       "1        1077  rt rulesoption worst trading addiction thinkin...        1.0\n",
       "2        1311  buy state bank india target price rs prabhudas...        1.0\n",
       "3        1148  stockmarkets nifty niftybank niftyoption intra...        1.0\n",
       "4         866                  rt arc dowjones heading towards k        1.0"
      ]
     },
     "execution_count": 37,
     "metadata": {},
     "output_type": "execute_result"
    }
   ],
   "source": [
    "df.head()"
   ]
  },
  {
   "cell_type": "code",
   "execution_count": 38,
   "id": "dec2ee8c",
   "metadata": {},
   "outputs": [
    {
     "data": {
      "text/plain": [
       "0.0    258\n",
       "1.0    258\n",
       "Name: Sentiment, dtype: int64"
      ]
     },
     "execution_count": 38,
     "metadata": {},
     "output_type": "execute_result"
    }
   ],
   "source": [
    "df.Sentiment.value_counts()"
   ]
  },
  {
   "cell_type": "code",
   "execution_count": 41,
   "id": "40f89799",
   "metadata": {},
   "outputs": [
    {
     "name": "stdout",
     "output_type": "stream",
     "text": [
      "shape of X_train (412,)\n",
      "shape of X_test (104,)\n",
      "shape of y_train (412,)\n",
      "shape of y_test (104,)\n",
      "bqmarketwrap sensex nifty gain second day aided metal capital goods realty stocks market bl\n",
      "1.0\n",
      "[530, 531, 532, 136, 533, 357, 534, 535, 536, 934]\n",
      "1.0\n",
      "[213 725 125  36  26 296 422 297 298 299 300  27   0   0   0   0   0   0\n",
      "   0   0]\n",
      "(412, 2)\n",
      "[0. 1.]\n",
      "(412, 20, 1)\n",
      "(104, 20, 1)\n"
     ]
    }
   ],
   "source": [
    "preprocessingdata()"
   ]
  },
  {
   "cell_type": "code",
   "execution_count": 49,
   "id": "948a6a3a",
   "metadata": {},
   "outputs": [],
   "source": [
    "num_classes=2\n",
    "\n",
    "def vanilla_rnn():\n",
    "    model=Sequential()\n",
    "    model.add(SimpleRNN(50,input_shape=(maxlen,1),return_sequences=False))\n",
    "    model.add(Dense(num_classes))\n",
    "    model.add(Activation(\"sigmoid\"))\n",
    "    model.summary()\n",
    "    epochs=15\n",
    "    learning_rate = 0.001\n",
    "    decay_rate = learning_rate / epochs\n",
    "    momentum = 0.8\n",
    "    sgd = optimizers.SGD(learning_rate=learning_rate, momentum=momentum, decay=decay_rate, nesterov=False)\n",
    "    \n",
    "    model.compile(loss=\"categorical_crossentropy\",optimizer=sgd,metrics=[\"accuracy\"])\n",
    "    \n",
    "    return model\n"
   ]
  },
  {
   "cell_type": "code",
   "execution_count": 50,
   "id": "219e8232",
   "metadata": {},
   "outputs": [
    {
     "name": "stdout",
     "output_type": "stream",
     "text": [
      "Model: \"sequential_4\"\n",
      "_________________________________________________________________\n",
      "Layer (type)                 Output Shape              Param #   \n",
      "=================================================================\n",
      "simple_rnn_4 (SimpleRNN)     (None, 50)                2600      \n",
      "_________________________________________________________________\n",
      "dense_4 (Dense)              (None, 2)                 102       \n",
      "_________________________________________________________________\n",
      "activation_4 (Activation)    (None, 2)                 0         \n",
      "=================================================================\n",
      "Total params: 2,702\n",
      "Trainable params: 2,702\n",
      "Non-trainable params: 0\n",
      "_________________________________________________________________\n",
      "Epoch 1/15\n",
      "13/13 [==============================] - 1s 30ms/step - loss: 0.6809 - accuracy: 0.5485\n",
      "Epoch 2/15\n",
      "13/13 [==============================] - 0s 20ms/step - loss: 0.6796 - accuracy: 0.5461\n",
      "Epoch 3/15\n",
      "13/13 [==============================] - 0s 20ms/step - loss: 0.6773 - accuracy: 0.5607\n",
      "Epoch 4/15\n",
      "13/13 [==============================] - 0s 19ms/step - loss: 0.6756 - accuracy: 0.5680\n",
      "Epoch 5/15\n",
      "13/13 [==============================] - 0s 19ms/step - loss: 0.6740 - accuracy: 0.5922\n",
      "Epoch 6/15\n",
      "13/13 [==============================] - 0s 19ms/step - loss: 0.6735 - accuracy: 0.5777\n",
      "Epoch 7/15\n",
      "13/13 [==============================] - 0s 22ms/step - loss: 0.6721 - accuracy: 0.5874\n",
      "Epoch 8/15\n",
      "13/13 [==============================] - 0s 17ms/step - loss: 0.6716 - accuracy: 0.5752\n",
      "Epoch 9/15\n",
      "13/13 [==============================] - 0s 19ms/step - loss: 0.6708 - accuracy: 0.5801\n",
      "Epoch 10/15\n",
      "13/13 [==============================] - 0s 19ms/step - loss: 0.6695 - accuracy: 0.5752\n",
      "Epoch 11/15\n",
      "13/13 [==============================] - 0s 18ms/step - loss: 0.6689 - accuracy: 0.5825\n",
      "Epoch 12/15\n",
      "13/13 [==============================] - 0s 20ms/step - loss: 0.6688 - accuracy: 0.5680\n",
      "Epoch 13/15\n",
      "13/13 [==============================] - 0s 17ms/step - loss: 0.6681 - accuracy: 0.5655\n",
      "Epoch 14/15\n",
      "13/13 [==============================] - 0s 17ms/step - loss: 0.6674 - accuracy: 0.5825\n",
      "Epoch 15/15\n",
      "13/13 [==============================] - 0s 17ms/step - loss: 0.6674 - accuracy: 0.5728\n"
     ]
    },
    {
     "data": {
      "text/plain": [
       "<tensorflow.python.keras.callbacks.History at 0x22ca6060550>"
      ]
     },
     "execution_count": 50,
     "metadata": {},
     "output_type": "execute_result"
    }
   ],
   "source": [
    "model=KerasClassifier(build_fn=vanilla_rnn,epochs=15,batch_size=32)\n",
    "model.fit(X_train,y_train)"
   ]
  },
  {
   "cell_type": "code",
   "execution_count": 54,
   "id": "23abb503",
   "metadata": {},
   "outputs": [
    {
     "name": "stdout",
     "output_type": "stream",
     "text": [
      "Model Accuracy ----> 0.4807692307692308\n"
     ]
    },
    {
     "name": "stderr",
     "output_type": "stream",
     "text": [
      "c:\\python\\lib\\site-packages\\tensorflow\\python\\keras\\engine\\sequential.py:455: UserWarning: `model.predict_classes()` is deprecated and will be removed after 2021-01-01. Please use instead:* `np.argmax(model.predict(x), axis=-1)`,   if your model does multi-class classification   (e.g. if it uses a `softmax` last-layer activation).* `(model.predict(x) > 0.5).astype(\"int32\")`,   if your model does binary classification   (e.g. if it uses a `sigmoid` last-layer activation).\n",
      "  warnings.warn('`model.predict_classes()` is deprecated and '\n"
     ]
    }
   ],
   "source": [
    "y_pred=model.predict(X_test)\n",
    "y_test_=np.argmax(y_test,axis=1)\n",
    "\n",
    "print(\"Model Accuracy ---->\",accuracy_score(y_pred,y_test_))"
   ]
  },
  {
   "cell_type": "code",
   "execution_count": 57,
   "id": "bf4eda89",
   "metadata": {},
   "outputs": [
    {
     "name": "stdout",
     "output_type": "stream",
     "text": [
      "(1, 20, 1)\n",
      "Prediction for \" Relience is going up \" ----> [1]\n"
     ]
    }
   ],
   "source": [
    "a=[\"Relience is going up\"]\n",
    "\n",
    "sent=a\n",
    "a=tokenizer.texts_to_sequences(a)\n",
    "a=np.array(a)\n",
    "a=pad_sequences(a,padding=\"post\",maxlen=maxlen)\n",
    "\n",
    "a=a.reshape((a.shape[0],a.shape[1],1))\n",
    "print(a.shape)\n",
    "\n",
    "prediction=model.predict(np.array(a))\n",
    "\n",
    "print(\"Prediction for\",'\"',*sent,'\"',\"---->\",prediction)"
   ]
  },
  {
   "cell_type": "markdown",
   "id": "cf33f758",
   "metadata": {},
   "source": [
    "# Accuracy with Oversampling"
   ]
  },
  {
   "cell_type": "code",
   "execution_count": 58,
   "id": "6980493a",
   "metadata": {},
   "outputs": [],
   "source": [
    "df=pd.read_csv(\"Tweets_labelled.csv\")"
   ]
  },
  {
   "cell_type": "code",
   "execution_count": 59,
   "id": "0594dd6a",
   "metadata": {},
   "outputs": [
    {
     "data": {
      "text/html": [
       "<div>\n",
       "<style scoped>\n",
       "    .dataframe tbody tr th:only-of-type {\n",
       "        vertical-align: middle;\n",
       "    }\n",
       "\n",
       "    .dataframe tbody tr th {\n",
       "        vertical-align: top;\n",
       "    }\n",
       "\n",
       "    .dataframe thead th {\n",
       "        text-align: right;\n",
       "    }\n",
       "</style>\n",
       "<table border=\"1\" class=\"dataframe\">\n",
       "  <thead>\n",
       "    <tr style=\"text-align: right;\">\n",
       "      <th></th>\n",
       "      <th>Unnamed: 0</th>\n",
       "      <th>Tweets</th>\n",
       "      <th>Sentiment</th>\n",
       "    </tr>\n",
       "  </thead>\n",
       "  <tbody>\n",
       "    <tr>\n",
       "      <th>0</th>\n",
       "      <td>0</td>\n",
       "      <td>trillion kidding globalgdp stocks crypto</td>\n",
       "      <td>0.0</td>\n",
       "    </tr>\n",
       "    <tr>\n",
       "      <th>1</th>\n",
       "      <td>1</td>\n",
       "      <td>much spy sampp fall pink shaded area pre shutd...</td>\n",
       "      <td>1.0</td>\n",
       "    </tr>\n",
       "    <tr>\n",
       "      <th>2</th>\n",
       "      <td>2</td>\n",
       "      <td>options trading watchlist amd p lt msft p lt m...</td>\n",
       "      <td>1.0</td>\n",
       "    </tr>\n",
       "    <tr>\n",
       "      <th>3</th>\n",
       "      <td>3</td>\n",
       "      <td>rt mrvuxxx wants sologenic binance let show po...</td>\n",
       "      <td>1.0</td>\n",
       "    </tr>\n",
       "    <tr>\n",
       "      <th>4</th>\n",
       "      <td>4</td>\n",
       "      <td>attacks mf short sellers seem working reed cra...</td>\n",
       "      <td>0.0</td>\n",
       "    </tr>\n",
       "  </tbody>\n",
       "</table>\n",
       "</div>"
      ],
      "text/plain": [
       "   Unnamed: 0                                             Tweets  Sentiment\n",
       "0           0           trillion kidding globalgdp stocks crypto        0.0\n",
       "1           1  much spy sampp fall pink shaded area pre shutd...        1.0\n",
       "2           2  options trading watchlist amd p lt msft p lt m...        1.0\n",
       "3           3  rt mrvuxxx wants sologenic binance let show po...        1.0\n",
       "4           4  attacks mf short sellers seem working reed cra...        0.0"
      ]
     },
     "execution_count": 59,
     "metadata": {},
     "output_type": "execute_result"
    }
   ],
   "source": [
    "df.head()"
   ]
  },
  {
   "cell_type": "code",
   "execution_count": 60,
   "id": "415f6e06",
   "metadata": {},
   "outputs": [],
   "source": [
    "def oversample(df):\n",
    "    classes = df.Sentiment.value_counts().to_dict()\n",
    "    most = max(classes.values())\n",
    "    classes_list = []\n",
    "    for key in classes:\n",
    "        classes_list.append(df[df['Sentiment'] == key]) \n",
    "    classes_sample = []\n",
    "    for i in range(1,len(classes_list)):\n",
    "        classes_sample.append(classes_list[i].sample(most, replace=True))\n",
    "    df_maybe = pd.concat(classes_sample)\n",
    "    final_df = pd.concat([df_maybe,classes_list[0]], axis=0)\n",
    "    final_df = final_df.reset_index(drop=True)\n",
    "    return final_df"
   ]
  },
  {
   "cell_type": "code",
   "execution_count": 61,
   "id": "b1150893",
   "metadata": {},
   "outputs": [],
   "source": [
    "df=oversample(df)"
   ]
  },
  {
   "cell_type": "code",
   "execution_count": 62,
   "id": "0d79bd37",
   "metadata": {},
   "outputs": [
    {
     "data": {
      "text/plain": [
       "<AxesSubplot:>"
      ]
     },
     "execution_count": 62,
     "metadata": {},
     "output_type": "execute_result"
    },
    {
     "data": {
      "image/png": "[encoded data removed]",
      "text/plain": [
       "<Figure size 432x288 with 1 Axes>"
      ]
     },
     "metadata": {
      "needs_background": "light"
     },
     "output_type": "display_data"
    }
   ],
   "source": [
    "pd.value_counts(df['Sentiment']).plot.bar()"
   ]
  },
  {
   "cell_type": "code",
   "execution_count": 63,
   "id": "5488dcb4",
   "metadata": {},
   "outputs": [
    {
     "data": {
      "text/html": [
       "<div>\n",
       "<style scoped>\n",
       "    .dataframe tbody tr th:only-of-type {\n",
       "        vertical-align: middle;\n",
       "    }\n",
       "\n",
       "    .dataframe tbody tr th {\n",
       "        vertical-align: top;\n",
       "    }\n",
       "\n",
       "    .dataframe thead th {\n",
       "        text-align: right;\n",
       "    }\n",
       "</style>\n",
       "<table border=\"1\" class=\"dataframe\">\n",
       "  <thead>\n",
       "    <tr style=\"text-align: right;\">\n",
       "      <th></th>\n",
       "      <th>Unnamed: 0</th>\n",
       "      <th>Tweets</th>\n",
       "      <th>Sentiment</th>\n",
       "    </tr>\n",
       "  </thead>\n",
       "  <tbody>\n",
       "    <tr>\n",
       "      <th>0</th>\n",
       "      <td>1116</td>\n",
       "      <td>th oct fii activity cr bought rs sold rs net b...</td>\n",
       "      <td>0.0</td>\n",
       "    </tr>\n",
       "    <tr>\n",
       "      <th>1</th>\n",
       "      <td>503</td>\n",
       "      <td>rt blackrockwhale sologenic gets securities br...</td>\n",
       "      <td>0.0</td>\n",
       "    </tr>\n",
       "    <tr>\n",
       "      <th>2</th>\n",
       "      <td>832</td>\n",
       "      <td>rt shivaji dowjones pts june low nifty pts jun...</td>\n",
       "      <td>0.0</td>\n",
       "    </tr>\n",
       "    <tr>\n",
       "      <th>3</th>\n",
       "      <td>29</td>\n",
       "      <td>rt doctormoneyx still financial instability en...</td>\n",
       "      <td>0.0</td>\n",
       "    </tr>\n",
       "    <tr>\n",
       "      <th>4</th>\n",
       "      <td>247</td>\n",
       "      <td>rt machismobeard see accurate stand friends se...</td>\n",
       "      <td>0.0</td>\n",
       "    </tr>\n",
       "  </tbody>\n",
       "</table>\n",
       "</div>"
      ],
      "text/plain": [
       "   Unnamed: 0                                             Tweets  Sentiment\n",
       "0        1116  th oct fii activity cr bought rs sold rs net b...        0.0\n",
       "1         503  rt blackrockwhale sologenic gets securities br...        0.0\n",
       "2         832  rt shivaji dowjones pts june low nifty pts jun...        0.0\n",
       "3          29  rt doctormoneyx still financial instability en...        0.0\n",
       "4         247  rt machismobeard see accurate stand friends se...        0.0"
      ]
     },
     "execution_count": 63,
     "metadata": {},
     "output_type": "execute_result"
    }
   ],
   "source": [
    "df.head()"
   ]
  },
  {
   "cell_type": "code",
   "execution_count": 64,
   "id": "90600e8c",
   "metadata": {},
   "outputs": [
    {
     "data": {
      "text/plain": [
       "1.0    1129\n",
       "0.0    1129\n",
       "Name: Sentiment, dtype: int64"
      ]
     },
     "execution_count": 64,
     "metadata": {},
     "output_type": "execute_result"
    }
   ],
   "source": [
    "df.Sentiment.value_counts()"
   ]
  },
  {
   "cell_type": "code",
   "execution_count": 65,
   "id": "10aa72c0",
   "metadata": {},
   "outputs": [
    {
     "name": "stdout",
     "output_type": "stream",
     "text": [
      "shape of X_train (1806,)\n",
      "shape of X_test (452,)\n",
      "shape of y_train (1806,)\n",
      "shape of y_test (452,)\n",
      "nasdaq registers lowest close since july chips stocks fall\n",
      "0.0\n",
      "[36, 28, 28, 68, 20, 59, 60, 62, 3]\n",
      "0.0\n",
      "[ 23 190 250 128 129 130 108 131 132 133   0   0   0   0   0   0   0   0\n",
      "   0   0]\n",
      "(1806, 2)\n",
      "[0. 1.]\n",
      "(1806, 20, 1)\n",
      "(452, 20, 1)\n"
     ]
    }
   ],
   "source": [
    "preprocessingdata()"
   ]
  },
  {
   "cell_type": "code",
   "execution_count": 66,
   "id": "3c3b2764",
   "metadata": {},
   "outputs": [],
   "source": [
    "num_classes=2\n",
    "\n",
    "def vanilla_rnn():\n",
    "    model=Sequential()\n",
    "    model.add(SimpleRNN(50,input_shape=(maxlen,1),return_sequences=False))\n",
    "    model.add(Dense(num_classes))\n",
    "    model.add(Activation(\"sigmoid\"))\n",
    "    model.summary()\n",
    "    epochs=15\n",
    "    learning_rate = 0.001\n",
    "    decay_rate = learning_rate / epochs\n",
    "    momentum = 0.8\n",
    "    sgd = optimizers.SGD(learning_rate=learning_rate, momentum=momentum, decay=decay_rate, nesterov=False)\n",
    "    \n",
    "    model.compile(loss=\"categorical_crossentropy\",optimizer=sgd,metrics=[\"accuracy\"])\n",
    "    \n",
    "    return model"
   ]
  },
  {
   "cell_type": "code",
   "execution_count": 67,
   "id": "9cf28cc3",
   "metadata": {},
   "outputs": [
    {
     "name": "stdout",
     "output_type": "stream",
     "text": [
      "Model: \"sequential_5\"\n",
      "_________________________________________________________________\n",
      "Layer (type)                 Output Shape              Param #   \n",
      "=================================================================\n",
      "simple_rnn_5 (SimpleRNN)     (None, 50)                2600      \n",
      "_________________________________________________________________\n",
      "dense_5 (Dense)              (None, 2)                 102       \n",
      "_________________________________________________________________\n",
      "activation_5 (Activation)    (None, 2)                 0         \n",
      "=================================================================\n",
      "Total params: 2,702\n",
      "Trainable params: 2,702\n",
      "Non-trainable params: 0\n",
      "_________________________________________________________________\n",
      "Epoch 1/15\n",
      "57/57 [==============================] - 2s 21ms/step - loss: 0.6996 - accuracy: 0.5216\n",
      "Epoch 2/15\n",
      "57/57 [==============================] - 1s 18ms/step - loss: 0.6416 - accuracy: 0.6213\n",
      "Epoch 3/15\n",
      "57/57 [==============================] - 1s 22ms/step - loss: 0.6253 - accuracy: 0.6473\n",
      "Epoch 4/15\n",
      "57/57 [==============================] - 1s 21ms/step - loss: 0.6215 - accuracy: 0.6484\n",
      "Epoch 5/15\n",
      "57/57 [==============================] - 1s 19ms/step - loss: 0.6161 - accuracy: 0.6683\n",
      "Epoch 6/15\n",
      "57/57 [==============================] - 1s 19ms/step - loss: 0.6150 - accuracy: 0.6728\n",
      "Epoch 7/15\n",
      "57/57 [==============================] - 1s 19ms/step - loss: 0.6126 - accuracy: 0.6678\n",
      "Epoch 8/15\n",
      "57/57 [==============================] - 1s 21ms/step - loss: 0.6109 - accuracy: 0.6717\n",
      "Epoch 9/15\n",
      "57/57 [==============================] - 1s 23ms/step - loss: 0.6076 - accuracy: 0.6739\n",
      "Epoch 10/15\n",
      "57/57 [==============================] - 1s 22ms/step - loss: 0.6064 - accuracy: 0.6800\n",
      "Epoch 11/15\n",
      "57/57 [==============================] - 1s 19ms/step - loss: 0.6045 - accuracy: 0.6833\n",
      "Epoch 12/15\n",
      "57/57 [==============================] - 1s 22ms/step - loss: 0.6029 - accuracy: 0.6788\n",
      "Epoch 13/15\n",
      "57/57 [==============================] - 1s 23ms/step - loss: 0.6011 - accuracy: 0.6860\n",
      "Epoch 14/15\n",
      "57/57 [==============================] - 1s 20ms/step - loss: 0.6009 - accuracy: 0.6744\n",
      "Epoch 15/15\n",
      "57/57 [==============================] - 1s 20ms/step - loss: 0.5993 - accuracy: 0.6800\n"
     ]
    },
    {
     "data": {
      "text/plain": [
       "<tensorflow.python.keras.callbacks.History at 0x22c97e7f160>"
      ]
     },
     "execution_count": 67,
     "metadata": {},
     "output_type": "execute_result"
    }
   ],
   "source": [
    "model=KerasClassifier(build_fn=vanilla_rnn,epochs=15,batch_size=32)\n",
    "model.fit(X_train,y_train)"
   ]
  },
  {
   "cell_type": "code",
   "execution_count": 70,
   "id": "1ff231b8",
   "metadata": {},
   "outputs": [
    {
     "name": "stdout",
     "output_type": "stream",
     "text": [
      "Model Accuracy ----> 0.6415929203539823\n"
     ]
    },
    {
     "name": "stderr",
     "output_type": "stream",
     "text": [
      "c:\\python\\lib\\site-packages\\tensorflow\\python\\keras\\engine\\sequential.py:455: UserWarning: `model.predict_classes()` is deprecated and will be removed after 2021-01-01. Please use instead:* `np.argmax(model.predict(x), axis=-1)`,   if your model does multi-class classification   (e.g. if it uses a `softmax` last-layer activation).* `(model.predict(x) > 0.5).astype(\"int32\")`,   if your model does binary classification   (e.g. if it uses a `sigmoid` last-layer activation).\n",
      "  warnings.warn('`model.predict_classes()` is deprecated and '\n"
     ]
    }
   ],
   "source": [
    "y_pred=model.predict(X_test)\n",
    "y_test_=np.argmax(y_test,axis=1)\n",
    "\n",
    "print(\"Model Accuracy ---->\",accuracy_score(y_pred,y_test_))"
   ]
  },
  {
   "cell_type": "code",
   "execution_count": 72,
   "id": "e3e83735",
   "metadata": {},
   "outputs": [
    {
     "name": "stdout",
     "output_type": "stream",
     "text": [
      "(1, 20, 1)\n",
      "Prediction for \" Relience is going up \" ----> [1]\n"
     ]
    }
   ],
   "source": [
    "a=[\"Relience is going up\"]\n",
    "\n",
    "sent=a\n",
    "a=tokenizer.texts_to_sequences(a)\n",
    "a=np.array(a)\n",
    "a=pad_sequences(a,padding=\"post\",maxlen=maxlen)\n",
    "\n",
    "a=a.reshape((a.shape[0],a.shape[1],1))\n",
    "print(a.shape)\n",
    "\n",
    "prediction=model.predict(np.array(a))\n",
    "\n",
    "print(\"Prediction for\",'\"',*sent,'\"',\"---->\",prediction)"
   ]
  },
  {
   "cell_type": "markdown",
   "id": "9c2f010d",
   "metadata": {},
   "source": [
    "# Conclusion\n",
    "\n",
    "On twitter there are more posetive tweets related to stocks than negative ones therefore this dataset is imbalaced.\n",
    "\n",
    "The accuracy of this model can be easily improved my collecting more negative sample and labelling them.\n"
   ]
  }
 ],
 "metadata": {
  "kernelspec": {
   "display_name": "Python 3 (ipykernel)",
   "language": "python",
   "name": "python3"
  },
  "language_info": {
   "codemirror_mode": {
    "name": "ipython",
    "version": 3
   },
   "file_extension": ".py",
   "mimetype": "text/x-python",
   "name": "python",
   "nbconvert_exporter": "python",
   "pygments_lexer": "ipython3",
   "version": "3.7.0"
  }
 },
 "nbformat": 4,
 "nbformat_minor": 5
}
